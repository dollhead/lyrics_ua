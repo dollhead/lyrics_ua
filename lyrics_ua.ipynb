{
 "cells": [
  {
   "cell_type": "code",
   "execution_count": 22,
   "metadata": {
    "collapsed": false,
    "scrolled": true
   },
   "outputs": [],
   "source": [
    "from lyrics_tokenizer import get_all_artists_tokens\n",
    "from lyrics_scrapper import fetch_all_lyrics\n",
    "import pandas as pd\n",
    "import pymorphy2\n",
    "morph = pymorphy2.MorphAnalyzer(lang='uk')"
   ]
  },
  {
   "cell_type": "code",
   "execution_count": 110,
   "metadata": {
    "collapsed": false
   },
   "outputs": [],
   "source": [
    "invalid_pos = ['PREP', 'CONJ', 'PRCL', 'NPRO', 'INTJ']\n",
    "stop_words = ['бути', 'мен', 'до', 'и', 'you', 'i', 'тобі']\n",
    "def is_valid_token(parsed_token):\n",
    "    return parsed_token.tag.POS not in invalid_pos and parsed_token.normal_form not in stop_words"
   ]
  },
  {
   "cell_type": "code",
   "execution_count": 111,
   "metadata": {
    "collapsed": false
   },
   "outputs": [],
   "source": [
    "def get_band_value_counts(band):\n",
    "    valid_tokens = {'origin' : [], 'normalized': [], 'parsed': []}\n",
    "    for token in tokens[band]:\n",
    "        parsed_token = morph.parse(token)[0]\n",
    "        if is_valid_token(parsed_token):\n",
    "            valid_tokens['origin'].append(token)\n",
    "            valid_tokens['normalized'].append(parsed_token.normal_form)\n",
    "            valid_tokens['parsed'].append(parsed_token)\n",
    "            \n",
    "    df = pd.DataFrame(valid_tokens)\n",
    "    return df.normalized.value_counts()"
   ]
  },
  {
   "cell_type": "code",
   "execution_count": 138,
   "metadata": {
    "collapsed": false
   },
   "outputs": [
    {
     "name": "stdout",
     "output_type": "stream",
     "text": [
      "\n",
      "Океан Ельзи:\n",
      "\n",
      "знати      93\n",
      "хотіти     84\n",
      "небо       69\n",
      "день       69\n",
      "за         65\n",
      "ла         62\n",
      "весна      53\n",
      "вже        51\n",
      "ніч        49\n",
      "слово      48\n",
      "сказати    45\n",
      "око        44\n",
      "далі       43\n",
      "може       43\n",
      "бачити     43\n",
      "йти        38\n",
      "любов      38\n",
      "знов       38\n",
      "живий      37\n",
      "вікно      37\n",
      "Name: normalized, dtype: int64\n",
      "\n",
      "Скрябін:\n",
      "\n",
      "вже       74\n",
      "за        49\n",
      "шо        45\n",
      "хотіти    41\n",
      "мати      37\n",
      "знати     36\n",
      "люди      36\n",
      "ла        32\n",
      "вода      26\n",
      "нікола    25\n",
      "око       25\n",
      "жити      25\n",
      "many      24\n",
      "voices    24\n",
      "соб       23\n",
      "раз       23\n",
      "може      23\n",
      "рука      23\n",
      "бачити    22\n",
      "ше        21\n",
      "Name: normalized, dtype: int64\n",
      "\n",
      "Плач Єремії:\n",
      "\n",
      "on           64\n",
      "come         64\n",
      "ля           34\n",
      "око          32\n",
      "вже          32\n",
      "за           28\n",
      "світ         28\n",
      "вода         22\n",
      "ніч          22\n",
      "бачити       20\n",
      "голова       19\n",
      "про          19\n",
      "прийти       15\n",
      "місто        15\n",
      "забувати     15\n",
      "металевий    14\n",
      "сумний       14\n",
      "любити       13\n",
      "хата         13\n",
      "мя           13\n",
      "Name: normalized, dtype: int64\n",
      "\n",
      "Бумбокс:\n",
      "\n",
      "тримати    48\n",
      "ты         41\n",
      "что        34\n",
      "вже        33\n",
      "a          31\n",
      "за         31\n",
      "got        30\n",
      "знати      30\n",
      "to         30\n",
      "кома       29\n",
      "бы         28\n",
      "день       26\n",
      "and        24\n",
      "ніч        24\n",
      "м'яти      24\n",
      "как        22\n",
      "i’m        22\n",
      "раз        21\n",
      "зима       21\n",
      "обіцяти    20\n",
      "Name: normalized, dtype: int64\n",
      "\n",
      "ВВ (Воплі Відоплясова):\n",
      "\n",
      "за        34\n",
      "весна     33\n",
      "галя      30\n",
      "небо      26\n",
      "день      25\n",
      "трава     24\n",
      "вітер     24\n",
      "ніч       22\n",
      "серце     20\n",
      "прийти    19\n",
      "оу        19\n",
      "гора      19\n",
      "земля     18\n",
      "ла        17\n",
      "нема      17\n",
      "пол       17\n",
      "вийти     16\n",
      "світ      16\n",
      "зоря      16\n",
      "ліса      15\n",
      "Name: normalized, dtype: int64\n"
     ]
    }
   ],
   "source": [
    "for key in tokens:\n",
    "    print(\"\\n\" + key + \":\\n\")\n",
    "    print(get_band_value_counts(key).head(20))"
   ]
  },
  {
   "cell_type": "code",
   "execution_count": 130,
   "metadata": {
    "collapsed": false
   },
   "outputs": [],
   "source": [
    "def get_vakarchuk_coef(band, tokens):\n",
    "    impr_count = 0\n",
    "    valid_tokens = 0\n",
    "    band_tokens = tokens[band]\n",
    "    for token in band_tokens:\n",
    "        parsed_token = morph.parse(token)[0]\n",
    "        if not is_valid_token(parsed_token):\n",
    "            continue\n",
    "            \n",
    "        valid_tokens += 1\n",
    "        if parsed_token.tag.mood == 'impr':\n",
    "            impr_count += 1\n",
    "    return float(impr_count)/valid_tokens\n"
   ]
  },
  {
   "cell_type": "code",
   "execution_count": 132,
   "metadata": {
    "collapsed": false
   },
   "outputs": [
    {
     "name": "stdout",
     "output_type": "stream",
     "text": [
      "Океан Ельзи: 1.0111958857700574\n",
      "Скрябін: 0.5052706665609892\n",
      "Плач Єремії: 0.28151198932568233\n",
      "Бумбокс: 0.7024772985371415\n",
      "ВВ (Воплі Відоплясова): 0.5388047739727511\n"
     ]
    }
   ],
   "source": [
    "oe_coef = 0.066\n",
    "for key in tokens:\n",
    "    print(key + \": \" + str(get_vakarchuk_coef(key, tokens)/oe_coef))"
   ]
  }
 ],
 "metadata": {
  "anaconda-cloud": {},
  "kernelspec": {
   "display_name": "Python [conda root]",
   "language": "python",
   "name": "conda-root-py"
  },
  "language_info": {
   "codemirror_mode": {
    "name": "ipython",
    "version": 3
   },
   "file_extension": ".py",
   "mimetype": "text/x-python",
   "name": "python",
   "nbconvert_exporter": "python",
   "pygments_lexer": "ipython3",
   "version": "3.5.2"
  }
 },
 "nbformat": 4,
 "nbformat_minor": 1
}
